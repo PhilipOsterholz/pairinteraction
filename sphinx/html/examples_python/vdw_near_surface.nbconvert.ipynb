{
 "cells": [
  {
   "cell_type": "markdown",
   "metadata": {},
   "source": [
    "# Dispersion Coefficients Near Surfaces"
   ]
  },
  {
   "cell_type": "markdown",
   "metadata": {},
   "source": [
    "In this tutorial we reproduce the results depicted in Figure 5 from J. Block and S. Scheel \"van der Waals interaction potential between Rydberg atoms near surfaces\" [Phys. Rev. A 96, 062509 (2017)](https://journals.aps.org/pra/abstract/10.1103/PhysRevA.96.062509). We calculate the van der Waals $C_6$-coefficient between two Rubidium Rydberg atoms that are equidistantly placed in front of a perfect mirror (i.e. in horizontal alignment in front of a perfectly conducting plate). One finds that the relevant length scale is interatomic distance devided by distance from surface and that for decreasing surface distance the $C_6$ coefficient is significantly reduced."
   ]
  },
  {
   "attachments": {},
   "cell_type": "markdown",
   "metadata": {},
   "source": [
    "As described in the [introduction](introduction.ipynb), we start our code with some preparations and load the necessary modules. "
   ]
  },
  {
   "cell_type": "code",
   "execution_count": 1,
   "metadata": {},
   "outputs": [],
   "source": [
    "%matplotlib inline\n",
    "\n",
    "# Arrays\n",
    "import numpy as np\n",
    "\n",
    "# Plotting\n",
    "import matplotlib.pyplot as plt\n",
    "\n",
    "# Operating system interfaces\n",
    "import os\n",
    "\n",
    "# pairinteraction :-)\n",
    "from pairinteraction import pireal as pi\n",
    "\n",
    "# Create cache for matrix elements\n",
    "if not os.path.exists(\"./cache\"):\n",
    "    os.makedirs(\"./cache\")\n",
    "cache = pi.MatrixElementCache(\"./cache\")"
   ]
  },
  {
   "cell_type": "markdown",
   "metadata": {},
   "source": [
    "The plate lies in the $xy$-plane with the surface at $z = 0$. The atoms lie in the $xz$-plane with $z>0$.\n",
    "\n",
    "We can set the angle between the interatomic axis and the z-axis `theta` and the center of mass distance from the surface `distance_surface`. `distance_atom` defines the interatomic distances for which the pair potential is plotted. The units of the respective quantities are given as comments.\n",
    "\n",
    "Be careful: `theta = np.pi/2` corresponds to horizontal alignment of the two atoms with respect to the surface. For different angles, large interatomic distances `distance_atom` might lead to one of the atoms being placed inside the plate. Make sure that `distance_surface` is larger than `distance_atom*np.cos(theta)/2`"
   ]
  },
  {
   "cell_type": "code",
   "execution_count": 2,
   "metadata": {},
   "outputs": [],
   "source": [
    "theta = np.pi / 2  # rad\n",
    "distance_atoms = 10  # µm\n",
    "distance_surface = np.linspace(\n",
    "    distance_atoms * np.abs(np.cos(theta)) / 2, 2 * distance_atoms, 30\n",
    ")  # µm"
   ]
  },
  {
   "cell_type": "markdown",
   "metadata": {},
   "source": [
    "Next we define the state that we are interested in using pairinteraction's `StateOne` class . As shown in Figures 4 and 5 of [Phys. Rev. A 96, 062509 (2017)](https://journals.aps.org/pra/abstract/10.1103/PhysRevA.96.062509) we expect changes of about 50% for the $C_6$ coefficient of the $|69s_{1/2},m_j=1/2;72s_{1/2},m_j=1/2\\rangle$ pair state of Rubidium, so this provides a good example. \n",
    "\n",
    "We set up the one-atom system using restrictions of energy, main quantum number n and angular momentum l. This is done by means of the `restrict...` functions in `SystemOne`."
   ]
  },
  {
   "cell_type": "code",
   "execution_count": 3,
   "metadata": {},
   "outputs": [],
   "source": [
    "state_one1 = pi.StateOne(\"Rb\", 69, 0, 0.5, 0.5)\n",
    "state_one2 = pi.StateOne(\"Rb\", 72, 0, 0.5, 0.5)\n",
    "\n",
    "# Set up one-atom system\n",
    "system_one = pi.SystemOne(state_one1.getSpecies(), cache)\n",
    "system_one.restrictEnergy(\n",
    "    min(state_one1.getEnergy(), state_one2.getEnergy()) - 30,\n",
    "    max(state_one1.getEnergy(), state_one2.getEnergy()) + 30,\n",
    ")\n",
    "system_one.restrictN(\n",
    "    min(state_one1.getN(), state_one2.getN()) - 3,\n",
    "    max(state_one1.getN(), state_one2.getN()) + 3,\n",
    ")\n",
    "system_one.restrictL(\n",
    "    min(state_one1.getL(), state_one2.getL()) - 1,\n",
    "    max(state_one1.getL(), state_one2.getL()) + 1,\n",
    ")"
   ]
  },
  {
   "cell_type": "markdown",
   "metadata": {},
   "source": [
    "The pair state `state_two` is created from the one atom states `state_one1` and `state_one2` using the `StateTwo` class.\n",
    "\n",
    "From the previously set up `system_one` we define `system_two` using `SystemTwo` class. This class also contains methods `set..` to set angle, distance, surface distance and to `enableGreenTensor` in order implement a surface."
   ]
  },
  {
   "cell_type": "code",
   "execution_count": 4,
   "metadata": {},
   "outputs": [],
   "source": [
    "# Set up pair state\n",
    "state_two = pi.StateTwo(state_one1, state_one2)\n",
    "\n",
    "# Set up two-atom system\n",
    "system_two = pi.SystemTwo(system_one, system_one, cache)\n",
    "system_two.restrictEnergy(state_two.getEnergy() - 3, state_two.getEnergy() + 3)\n",
    "\n",
    "system_two.setAngle(theta)\n",
    "system_two.setDistance(distance_atoms)\n",
    "system_two.setSurfaceDistance(distance_surface[0])\n",
    "system_two.enableGreenTensor(True)\n",
    "system_two.buildInteraction()"
   ]
  },
  {
   "cell_type": "markdown",
   "metadata": {},
   "source": [
    "We calculate the $C_6$ coefficients. The `energyshift` is given by the difference between the interaction energy at given `surface_distance` and the unperturbed energy of the two atom state `state_two.getEnergy()`. The $C_6$ coefficient is then given by the product of `energyshift` and `distance_atoms**6`.\n",
    "\n",
    "`idx` is the index of the two atom state. The command `getOverlap(state_two, 0, -theta, 0)` rotates the quantisation axis of `state_two` by `theta` around the y-axis. The rotation is given by the Euler angles `(0, -theta, 0)` in zyz convention. The negative sign of theta is needed because the Euler angles used by pairinteraction represent a rotation of the coordinate system. Thus, the quantisation axis has to be rotated by the inverse angle."
   ]
  },
  {
   "cell_type": "code",
   "execution_count": 5,
   "metadata": {},
   "outputs": [],
   "source": [
    "# Calculate C6 coefficients\n",
    "C6 = []\n",
    "for d in distance_surface:\n",
    "    system_two.setSurfaceDistance(d)\n",
    "    system_two.diagonalize()\n",
    "    idx = np.argmax(system_two.getOverlap(state_two, 0, -theta, 0))\n",
    "    energyshift = system_two.getHamiltonian().diagonal()[idx] - state_two.getEnergy()\n",
    "    C6.append(energyshift * distance_atoms**6)"
   ]
  },
  {
   "cell_type": "code",
   "execution_count": 6,
   "metadata": {
    "tags": [
     "nbsphinx-thumbnail"
    ]
   },
   "outputs": [
    {
     "data": {
      "image/png": "[encoded data removed]",
      "text/plain": [
       "<Figure size 432x288 with 1 Axes>"
      ]
     },
     "metadata": {
      "needs_background": "light"
     },
     "output_type": "display_data"
    }
   ],
   "source": [
    "# Plot results\n",
    "plt.plot(distance_surface / distance_atoms, np.abs(C6))\n",
    "plt.xlim(min(distance_surface / distance_atoms), max(distance_surface / distance_atoms))\n",
    "plt.xlabel(\"distance to surface / interatomic distance\")\n",
    "plt.ylabel(r\"|C$_6$| (GHz $\\mu m^6$)\")\n",
    "plt.show()"
   ]
  }
 ],
 "metadata": {
  "kernelspec": {
   "display_name": "Python 3",
   "language": "python",
   "name": "python3"
  },
  "language_info": {
   "codemirror_mode": {
    "name": "ipython",
    "version": 3
   },
   "file_extension": ".py",
   "mimetype": "text/x-python",
   "name": "python",
   "nbconvert_exporter": "python",
   "pygments_lexer": "ipython3",
   "version": "3.9.2"
  },
  "vscode": {
   "interpreter": {
    "hash": "e7370f93d1d0cde622a1f8e1c04877d8463912d04d973331ad4851f04de6915a"
   }
  }
 },
 "nbformat": 4,
 "nbformat_minor": 1
}
